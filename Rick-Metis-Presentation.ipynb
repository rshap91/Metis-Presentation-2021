{
 "cells": [
  {
   "cell_type": "markdown",
   "metadata": {},
   "source": [
    "# Background\n"
   ]
  },
  {
   "cell_type": "markdown",
   "metadata": {},
   "source": [
    "### ~2014 (Almost Famous-ish)\n",
    "\n",
    " - Graduated from conservatory\n",
    " - falling out with music and the lifestyle\n",
    " - Rising interest in the sciences\n",
    " - Pixie Scientific + python\n",
    " - Had hair\n",
    " \n",
    "\n",
    "![used-to-be-me](imgs/rick-guitar.jpeg)"
   ]
  },
  {
   "cell_type": "markdown",
   "metadata": {},
   "source": [
    "### 2015 (Rise of the Machines)\n",
    "\n",
    "    - equinox\n",
    "    - internet research\n",
    "    - coursera courses\n",
    "    - Part time courses at Metis\n",
    "    \n",
    "\n",
    " - [Python for Everybody](https://www.coursera.org/specializations/python)\n",
    " - [Cartoon Guide to Statistics](https://www.amazon.com/Cartoon-Guide-Statistics-Larry-Gonick/dp/0062731025/ref=asc_df_0062731025/?tag=hyprod-20&linkCode=df0&hvadid=312130957577&hvpos=&hvnetw=g&hvrand=8988218495360739972&hvpone=&hvptwo=&hvqmt=&hvdev=c&hvdvcmdl=&hvlocint=&hvlocphy=9067609&hvtargid=pla-437618408572&psc=1)\n",
    "\n",
    "\n",
    "<img src=\"imgs/stats-book.jpeg\" alt=\"cartoon-stats\" width=\"400\"/>"
   ]
  },
  {
   "cell_type": "markdown",
   "metadata": {},
   "source": [
    "### 2016 (Metis A New Hope)\n",
    "\n",
    " - Had a running start from self-study + part time courses\n",
    " - [pandas pandas pandas](http://tomaugspurger.github.io/modern-1-intro.html) (probably already out dated)\n",
    " - Botched Final Project\n",
    " \n",
    " \n",
    "<img src=\"imgs/metis-final-project.png\" alt=\"cartoon-stats\" width=\"800\"/>"
   ]
  },
  {
   "cell_type": "markdown",
   "metadata": {},
   "source": [
    "### 2017 (Hunt for Red Jobtober)\n",
    "\n",
    "    - It's hard\n",
    "    - Lots of Practice\n",
    "        - Got my spiel down. \n",
    "        - Pre-written cover letters.\n",
    "        - Applied to everything\n",
    "        - Bother Jen\n",
    "        - Post in slack\n",
    "        - Talk with your cohort-mates\n",
    "    - More Practice!\n",
    "        - Refined what I learned at metis\n",
    "        - Kept learning\n",
    "        - Made a portfolio\n"
   ]
  },
  {
   "cell_type": "markdown",
   "metadata": {},
   "source": [
    "### 2017 (360i Robot)\n",
    "\n",
    " - Automation (csvs/excel --> python/pandas)\n",
    " - Data Infrastructure (AWS, ec2, s3, redshift, iam, lambda)\n",
    " - ETL (APIs, REST, SQL)\n",
    " - Optimization (Diminishing Returns, Scipy Optimize)\n",
    "\n",
    "![not-a-robot](imgs/not-a-robot.png)\n",
    " "
   ]
  },
  {
   "cell_type": "markdown",
   "metadata": {},
   "source": [
    "### 2019 (Better Will Hunting)\n",
    "\n",
    "    - AB Testing\n",
    "    - Data Engineering\n",
    "    - Database management\n",
    "    - Airflow\n",
    "    - Large Scale Infrastructure\n",
    "    \n",
    "\n",
    "![better-com](imgs/better-com.png)"
   ]
  },
  {
   "cell_type": "markdown",
   "metadata": {},
   "source": [
    "# Budget Optimization\n",
    "\n",
    "\n",
    "    1) Building Models\n",
    "    2) Using the models to \"tune\" spend\n",
    "    \n",
    "\n",
    "___1) Build Models___\n",
    "\n",
    "Say you split your spend accross 3 brands within your business (\"Brand1\", \"Brand2\", \"Brand3\"). The first step is then to build a model that, given a budget, will predict the number of conversions generated from your spend.\n",
    "\n",
    "![build_models](imgs/build_models.png)\n"
   ]
  },
  {
   "cell_type": "markdown",
   "metadata": {},
   "source": [
    "___2) Optimize Budget___\n",
    "\n",
    "Once we have these models built, we can then use them to vary the amount of money spent in the different brands, using the models to predict the outcome, until the outcome is the highest it can get.\n",
    "\n",
    "\n",
    "\n",
    "\n",
    "Adjust the spend until we've reached the maximum output\n",
    "\n",
    "!['adjust_spend'](imgs/optBudget2.png)\n",
    "\n",
    "Notice that when we moved $1000 out of _Category2_ into the other two categories, we gained a total of 70 conversions at the expense of 10.\n",
    "\n",
    "!['calculate_lift'](imgs/optBudget3.png)"
   ]
  },
  {
   "cell_type": "markdown",
   "metadata": {},
   "source": [
    "### Generate Data\n"
   ]
  },
  {
   "cell_type": "code",
   "execution_count": null,
   "metadata": {},
   "outputs": [],
   "source": [
    "from scipy import optimize, stats\n",
    "import numpy as np\n",
    "import pandas as pd\n",
    "\n",
    "import matplotlib.pyplot as plt\n",
    "import seaborn as sns\n"
   ]
  },
  {
   "cell_type": "code",
   "execution_count": null,
   "metadata": {},
   "outputs": [],
   "source": [
    "sns.set_style('darkgrid')\n",
    "plt.rcParams['figure.figsize'] = (12,8)"
   ]
  },
  {
   "cell_type": "code",
   "execution_count": null,
   "metadata": {},
   "outputs": [],
   "source": [
    "df = pd.read_csv('static/market_data_final.csv', parse_dates=['Date'])\n",
    "df.head()"
   ]
  },
  {
   "cell_type": "markdown",
   "metadata": {},
   "source": [
    "## Budget Optimization With Scipy\n",
    "\n"
   ]
  },
  {
   "cell_type": "markdown",
   "metadata": {},
   "source": [
    "### Curve Fit\n",
    "`scipy.optimize.curve_fit(f,x,y, p0 = None)` sets the parameters based on [non-linear least squares](https://en.wikipedia.org/wiki/Least_squares#Differences_between_linear_and_nonlinear_least_squares)."
   ]
  },
  {
   "cell_type": "code",
   "execution_count": null,
   "metadata": {
    "collapsed": false,
    "jupyter": {
     "outputs_hidden": false
    }
   },
   "outputs": [],
   "source": [
    "x = np.arange(1,100)\n",
    "\n",
    "# Michaelis Menten Curve\n",
    "def curve_func(x, b0, b1):\n",
    "    return (b0 * x)/(b1 + x)\n",
    "\n",
    "# parameters\n",
    "b0 = 100\n",
    "b1 = 5\n",
    "\n",
    "y = curve_func(x,b0,b1)\n",
    "plt.plot(x,y)"
   ]
  },
  {
   "cell_type": "code",
   "execution_count": null,
   "metadata": {},
   "outputs": [],
   "source": [
    "# returns the parameters for function `func` which produce the \"best\" fitting curve\n",
    "betas, cov = optimize.curve_fit(curve_func,x,y)\n",
    "y_pred = curve_func(x,*betas)\n",
    "print(betas)\n",
    "plt.plot(x,y_pred)"
   ]
  },
  {
   "cell_type": "markdown",
   "metadata": {},
   "source": [
    "### Minimize\n",
    "\n",
    "`scipy.optimize.minimize(func, starting_input)` can find the values of passed parameters that minimize the output of the function.\n",
    "\n",
    " > Minimize is the same as the negative of Maximize\n",
    "\n"
   ]
  },
  {
   "cell_type": "code",
   "execution_count": null,
   "metadata": {},
   "outputs": [],
   "source": [
    "# Find the value of x that maximizes output of our function\n",
    "target = lambda x : -curve_func(x, b0, b1)"
   ]
  },
  {
   "cell_type": "code",
   "execution_count": null,
   "metadata": {
    "collapsed": false,
    "jupyter": {
     "outputs_hidden": false
    }
   },
   "outputs": [],
   "source": [
    "res = optimize.minimize(target, [1], tol=0.1)"
   ]
  },
  {
   "cell_type": "code",
   "execution_count": null,
   "metadata": {
    "collapsed": false,
    "jupyter": {
     "outputs_hidden": false
    }
   },
   "outputs": [],
   "source": [
    "print(res.x) # optimal parameters\n",
    "print(res.success) # whether or not the optimizer was successful\n",
    "print(res.message) # Success or error message\n",
    "print(res.fun) # the value of the objective function with optimal params\n",
    "print(res.nit) # number of iterations."
   ]
  },
  {
   "cell_type": "code",
   "execution_count": null,
   "metadata": {},
   "outputs": [],
   "source": [
    "plt.plot(x,y)\n",
    "plt.axvline(res.x[0], color='firebrick')"
   ]
  },
  {
   "cell_type": "markdown",
   "metadata": {},
   "source": [
    "### Budget Optimization"
   ]
  },
  {
   "cell_type": "markdown",
   "metadata": {},
   "source": [
    "___Curve Fit___: fit a curve for every brand.\n",
    "\n",
    "___Optimize___: Change our target function to the _**total**_ output (sales)"
   ]
  },
  {
   "cell_type": "code",
   "execution_count": null,
   "metadata": {},
   "outputs": [],
   "source": [
    "df.head()"
   ]
  },
  {
   "cell_type": "code",
   "execution_count": null,
   "metadata": {},
   "outputs": [],
   "source": [
    "# visualize\n",
    "grid = sns.FacetGrid(data = df, col = 'Brand', sharey=False, sharex=False, height=6)\n",
    "grid.map(sns.scatterplot, 'Spend', 'Sales')"
   ]
  },
  {
   "cell_type": "code",
   "execution_count": null,
   "metadata": {},
   "outputs": [],
   "source": [
    "def fit_curves(df, **kwargs):\n",
    "    \"\"\"\n",
    "    For a dataframe containing \"Brand\", \"Spend\", \"Sales\" columns,\n",
    "    return parameters for models for each brand.\n",
    "    \n",
    "    Additional kwargs passed to scipy.optimize.curve_fit\n",
    "    \"\"\"\n",
    "    # Initialize empty dict to hold parameters\n",
    "    models = dict.fromkeys(df.Brand.unique())\n",
    "    cov = dict.fromkeys(df.Brand.unique())\n",
    "    \n",
    "    # fit models for each brand\n",
    "    for i, brand in enumerate(models):\n",
    "        # x is spend\n",
    "        x = df.loc[df.Brand == brand, 'Spend']\n",
    "        xrange = np.linspace(0, x.max()*1.25, 1000)\n",
    "        # y is sales\n",
    "        y = df.loc[df.Brand == brand, 'Sales']\n",
    "        # fit curve yield params\n",
    "        params = optimize.curve_fit(curve_func, x, y, **kwargs)\n",
    "        # params has model parameters and covariance estimates\n",
    "        models[brand] = params[0]\n",
    "        cov[brand] = params[1]\n",
    "\n",
    "    return models, cov\n",
    " \n",
    "\n",
    "\n",
    "def plot_models(df, models, cov=None):\n",
    "    # Helper to plot the models against actuals\n",
    "    fig, axes = plt.subplots(1,len(models), figsize=(32,8))\n",
    "    for i, brand in enumerate(models):\n",
    "        x = df.loc[df.Brand == brand, 'Spend']\n",
    "        x_range = np.linspace(0, x.max()*1.25, 1000)\n",
    "        y = df.loc[df.Brand == brand, 'Sales']\n",
    "        axes[i].scatter(x,y)\n",
    "        axes[i].plot(x_range,curve_func(x_range, *models[brand]))\n",
    "        axes[i].set_title(brand)\n",
    "        axes[i].set_xlabel('Spend', fontsize=13)\n",
    "        axes[i].set_ylabel('Sales', fontsize=13)\n",
    "    return fig, axes"
   ]
  },
  {
   "cell_type": "code",
   "execution_count": null,
   "metadata": {},
   "outputs": [],
   "source": [
    "models, cov = fit_curves(df)"
   ]
  },
  {
   "cell_type": "code",
   "execution_count": null,
   "metadata": {},
   "outputs": [],
   "source": [
    "plot_models(df, models);"
   ]
  },
  {
   "cell_type": "code",
   "execution_count": null,
   "metadata": {},
   "outputs": [],
   "source": [
    "models"
   ]
  },
  {
   "cell_type": "code",
   "execution_count": null,
   "metadata": {},
   "outputs": [],
   "source": [
    "models, cov = fit_curves(df, bounds=(0,np.inf))"
   ]
  },
  {
   "cell_type": "code",
   "execution_count": null,
   "metadata": {},
   "outputs": [],
   "source": [
    "models"
   ]
  },
  {
   "cell_type": "code",
   "execution_count": null,
   "metadata": {},
   "outputs": [],
   "source": [
    "plot_models(df, models);"
   ]
  },
  {
   "cell_type": "markdown",
   "metadata": {},
   "source": [
    "### Optimize"
   ]
  },
  {
   "cell_type": "code",
   "execution_count": null,
   "metadata": {},
   "outputs": [],
   "source": [
    "def target_func(spend_by_brand, params):\n",
    "    # spend_by_brand is allocated spend for each brand\n",
    "    # params are the parameters for that brands model\n",
    "    return -sum([curve_func(spend_by_brand[i], *params[i]) for i in range(len(spend_by_brand))])\n",
    "\n",
    "def optimize_budget(total_budget, models):\n",
    "    # starting budget\n",
    "    budget = np.ones(len(models)) * (total_budget/len(models))\n",
    "    params = np.asarray(list(models.values()))\n",
    "    \n",
    "    # find budget array that minimizes the target function (negative conversion)\n",
    "    result = optimize.minimize(\n",
    "        target_func, \n",
    "        budget, \n",
    "        params,\n",
    "        # inequality constraint means the result of `fun` must be non-negative\n",
    "        constraints=[{'type': 'ineq', 'fun': lambda budg: total_budget - sum(budg)}]\n",
    "    )\n",
    "    print(result.message)\n",
    "    print(\"Total Sales:\", -result.fun)\n",
    "    return dict(zip(models.keys(), result.x))"
   ]
  },
  {
   "cell_type": "code",
   "execution_count": null,
   "metadata": {},
   "outputs": [],
   "source": [
    "res = optimize_budget(20_000, models)\n",
    "res"
   ]
  },
  {
   "cell_type": "markdown",
   "metadata": {},
   "source": [
    " - Brand 1 has the highest sales/dollar and a high (slow) rate parameter so we spend the most there.\n",
    " - Brand 3 and 4 are similar but brand 3 has a slightly lower (faster) rate parameter\n",
    " - Brand 5 is the worst performing so we allocate the least."
   ]
  },
  {
   "cell_type": "code",
   "execution_count": null,
   "metadata": {},
   "outputs": [],
   "source": [
    "fig, axes = plot_models(df, models)\n",
    "for i, ax in enumerate(axes):\n",
    "    ax.axvline(list(res.values())[i], color='coral', linestyle='--', alpha=0.6)\n",
    "    plt.setp(ax.get_xticklabels(), fontsize=13)\n",
    "    plt.setp(ax.get_yticklabels(), fontsize=13)"
   ]
  },
  {
   "cell_type": "markdown",
   "metadata": {},
   "source": [
    "## Conclusion and Questions"
   ]
  },
  {
   "cell_type": "markdown",
   "metadata": {},
   "source": [
    "\n",
    "    - Curve function (the model) can be any arbitrary model for each brand. Does NOT have to be the same for each.\n",
    "    - However, you must make sure that the inputs are _controllable_!\n",
    "    - When the model does not fit it's often good to try segmenting the data by other dimensions eg break out by product or by region.\n",
    "    - Optimize curve fit returns uncertainty parameters. You can change the minimize function to account for that.\n",
    "\n",
    "\n",
    "\n",
    "\n",
    "\n"
   ]
  },
  {
   "cell_type": "markdown",
   "metadata": {},
   "source": [
    "Notebook in Github: https://github.com/rshap91/Metis-Presentation-2021"
   ]
  }
 ],
 "metadata": {
  "kernelspec": {
   "display_name": "Python 3",
   "language": "python",
   "name": "python3"
  },
  "language_info": {
   "codemirror_mode": {
    "name": "ipython",
    "version": 3
   },
   "file_extension": ".py",
   "mimetype": "text/x-python",
   "name": "python",
   "nbconvert_exporter": "python",
   "pygments_lexer": "ipython3",
   "version": "3.8.2"
  }
 },
 "nbformat": 4,
 "nbformat_minor": 4
}
